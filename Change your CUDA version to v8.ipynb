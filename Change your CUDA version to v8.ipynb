{
 "cells": [
  {
   "cell_type": "markdown",
   "metadata": {},
   "source": [
    "# Change your CUDA version to v8.\n",
    "\n",
    "At the time of this writting, CUDA recent version is v9.1 but, some versions of tensorflow like v1.1 supports only cuda v8. So if you have already installed CUDA v9x, I will show you how to completely uninstall it and intall v8"
   ]
  },
  {
   "cell_type": "markdown",
   "metadata": {},
   "source": [
    "##### Uninstall cuda*\n",
    "\n",
    "`sudo apt-get --purge -y remove cuda*`\n",
    "\n",
    "\n"
   ]
  },
  {
   "cell_type": "markdown",
   "metadata": {},
   "source": [
    "##### Remove cuda folder\n",
    "Move to $HOME/usr/local and remove the cuda folder by running the command\n",
    "\n",
    "`sudo rm -r cuda-9.0`  # replace `9.0` with your cuda version.\n"
   ]
  },
  {
   "cell_type": "markdown",
   "metadata": {},
   "source": [
    "##### Download CUDA 8  and install.\n",
    "go [here](https://developer.nvidia.com/cuda-80-ga2-download-archive) and download cuda8 for your platform and follow instructions for installation."
   ]
  },
  {
   "cell_type": "markdown",
   "metadata": {},
   "source": [
    "##### Download cuDNN and install.\n",
    "Go [here](https://developer.nvidia.com/cudnn) and download cuDNN for cuda8, I recommend you download v5.1.\n",
    "\n",
    "After you have downloaded the cuDNN, you can follow instructions [here](https://docs.nvidia.com/deeplearning/sdk/cudnn-install/index.html) to install and verify that your cuDNN was installed correctly.\n",
    "\n",
    "**NB:** *You will be required to create an account before you could download.*"
   ]
  },
  {
   "cell_type": "code",
   "execution_count": null,
   "metadata": {
    "collapsed": true
   },
   "outputs": [],
   "source": []
  }
 ],
 "metadata": {
  "kernelspec": {
   "display_name": "Python 3",
   "language": "python",
   "name": "python3"
  },
  "language_info": {
   "codemirror_mode": {
    "name": "ipython",
    "version": 3
   },
   "file_extension": ".py",
   "mimetype": "text/x-python",
   "name": "python",
   "nbconvert_exporter": "python",
   "pygments_lexer": "ipython3",
   "version": "3.6.2"
  }
 },
 "nbformat": 4,
 "nbformat_minor": 2
}
