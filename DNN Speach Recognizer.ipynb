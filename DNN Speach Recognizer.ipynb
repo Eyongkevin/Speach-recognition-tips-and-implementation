{
 "cells": [
  {
   "cell_type": "markdown",
   "metadata": {},
   "source": [
    "# Natural Language Processing\n"
   ]
  },
  {
   "cell_type": "markdown",
   "metadata": {},
   "source": [
    "## DNN Speach Recognizer\n",
    "Here, I will be providing help and tips which will help students to easily implement this capston project."
   ]
  },
  {
   "cell_type": "markdown",
   "metadata": {},
   "source": [
    "### 1) Introduction and Implementation"
   ]
  },
  {
   "cell_type": "markdown",
   "metadata": {},
   "source": [
    "### 2) Setting up environment\n"
   ]
  },
  {
   "cell_type": "markdown",
   "metadata": {},
   "source": [
    "#### Q1:\n",
    "\n",
    "In the process of setting up your environment, you are required to Switch Keras backend to TensorFlow using the command:\n",
    "\n",
    "`KERAS_BACKEND=tensorflow python -c \"from keras import backend\"`\n",
    "\n",
    "If you are using CUDA 9x, you may be faced with the error\n",
    "\n",
    "`ImportError: libcublas.so.8.0: cannot open shared object file: No such file or directory`\n",
    "\n",
    "This error has many meaning, for me I think it means the vesion of Tensorflow we are required to use which is `1.1.0` is supported by CUDA 8 and not 9.\n",
    "\n",
    "#### S:\n",
    "\n",
    "**1**: Change your CUDA version to v8.\n",
    "\n",
    "**2**: By default, keras uses **tensorflow** as its backend out of the list of available backends(**TensorFlow backend, the Theano backend, and the CNTK backend**).\n",
    "You can verify this if you have run Keras at least once, you will find the Keras configuration file at:\n",
    "\n",
    "`$HOME/.keras/keras.json`\n",
    "\n",
    "If it isn't there, you can create it.\n",
    "\n",
    "NOTE for Windows Users: Please replace `$HOME` with `%USERPROFILE%`.\n",
    "\n",
    "`$ gedit $HOME/.keras/keras.json`             \n",
    "\n",
    "\n",
    "```\n",
    "{\n",
    "    \"image_data_format\": \"channels_last\",\n",
    "    \"epsilon\": 1e-07,\n",
    "    \"floatx\": \"float32\",\n",
    "    \"backend\": \"tensorflow\"\n",
    "}\n",
    "```\n",
    "From the text above, we can easily change the backend and next time we run it, it will use the new configuration.\n",
    "\n",
    "#### R:\n",
    "- [Keras Backend](https://keras.io/backend/)\n",
    "- "
   ]
  },
  {
   "cell_type": "code",
   "execution_count": null,
   "metadata": {
    "collapsed": true
   },
   "outputs": [],
   "source": []
  }
 ],
 "metadata": {
  "kernelspec": {
   "display_name": "Python 3",
   "language": "python",
   "name": "python3"
  },
  "language_info": {
   "codemirror_mode": {
    "name": "ipython",
    "version": 3
   },
   "file_extension": ".py",
   "mimetype": "text/x-python",
   "name": "python",
   "nbconvert_exporter": "python",
   "pygments_lexer": "ipython3",
   "version": "3.6.2"
  }
 },
 "nbformat": 4,
 "nbformat_minor": 2
}
